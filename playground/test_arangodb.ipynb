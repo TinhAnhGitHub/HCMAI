{
 "cells": [
  {
   "cell_type": "code",
   "execution_count": 1,
   "id": "b8c14ce1",
   "metadata": {},
   "outputs": [],
   "source": [
    "from arango import ArangoClient"
   ]
  },
  {
   "cell_type": "code",
   "execution_count": 3,
   "id": "4961f100",
   "metadata": {},
   "outputs": [],
   "source": [
    "client = ArangoClient()\n",
    "db = client.db(\n",
    "    \"_system\",  # Default system database\n",
    "    username=\"root\",\n",
    "    password=\"12345678\",  # Your ARANGO_ROOT_PASSWORD\n",
    ")"
   ]
  },
  {
   "cell_type": "code",
   "execution_count": null,
   "id": "6800689d",
   "metadata": {},
   "outputs": [],
   "source": []
  },
  {
   "cell_type": "code",
   "execution_count": 5,
   "id": "85ab83b9",
   "metadata": {},
   "outputs": [
    {
     "data": {
      "text/plain": [
       "'3.12.5'"
      ]
     },
     "execution_count": 5,
     "metadata": {},
     "output_type": "execute_result"
    }
   ],
   "source": [
    "db.version()"
   ]
  },
  {
   "cell_type": "code",
   "execution_count": null,
   "id": "80cc7d92",
   "metadata": {},
   "outputs": [],
   "source": []
  }
 ],
 "metadata": {
  "kernelspec": {
   "display_name": ".venv",
   "language": "python",
   "name": "python3"
  },
  "language_info": {
   "codemirror_mode": {
    "name": "ipython",
    "version": 3
   },
   "file_extension": ".py",
   "mimetype": "text/x-python",
   "name": "python",
   "nbconvert_exporter": "python",
   "pygments_lexer": "ipython3",
   "version": "3.11.6"
  }
 },
 "nbformat": 4,
 "nbformat_minor": 5
}
